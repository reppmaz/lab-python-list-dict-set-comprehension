{
 "cells": [
  {
   "cell_type": "markdown",
   "id": "25d7736c-ba17-4aff-b6bb-66eba20fbf4e",
   "metadata": {},
   "source": [
    "# Lab | List, Dict and Set Comprehension"
   ]
  },
  {
   "cell_type": "markdown",
   "id": "7dd3cbde-675a-4b81-92c3-f728846dbe06",
   "metadata": {},
   "source": [
    "## Exercise: Managing Customer Orders Optimized with Comprehension"
   ]
  },
  {
   "cell_type": "markdown",
   "id": "5d500160-2fb7-4777-b5e4-09d45ebaf328",
   "metadata": {},
   "source": [
    "In the previous exercise, you developed a program to manage customer orders and inventory. Now, let's take it a step further and incorporate comprehension into your code.\n",
    "\n",
    "Follow the steps below to complete the exercise:\n",
    "\n",
    "1. Review your code from the previous exercise and identify areas where you can apply comprehension to simplify and streamline your code. \n",
    "\n",
    "    - *Hint: Apply it to initialize inventory, updating the inventory and printing the updated inventory.*\n",
    "    \n",
    "    - For example, in initializing the inventory, we could have:\n",
    "    \n",
    "        ```python\n",
    "        def initialize_inventory(products):\n",
    "            inventory = {product: int(input(f\"Enter the quantity of {product}s available: \")) for product in products}\n",
    "            return inventory\n",
    "\n",
    "        ```\n",
    "<br>\n",
    "    \n",
    "    \n",
    "2. Modify the function get_customer_orders so it prompts the user to enter the number of customer orders and gathers the product names using a loop and user input. Use comprehension.\n",
    "\n",
    "3. Add a new function to calculate the total price of the customer order. For each product in customer_orders, prompt the user to enter the price of that product. Use comprehension to calculate the total price. Note: assume that the user can only have 1 unit of each product.\n",
    "\n",
    "4. Modify the update_inventory function to remove the product from the inventory if its quantity becomes zero after fulfilling the customer orders. Use comprehension to filter out the products with a quantity of zero from the inventory.\n",
    "\n",
    "5. Print the total price of the customer order.\n",
    "\n",
    "Your code should produce output similar to the following:\n",
    "\n",
    "```python\n",
    "Enter the quantity of t-shirts available:  5\n",
    "Enter the quantity of mugs available:  4\n",
    "Enter the quantity of hats available:  3\n",
    "Enter the quantity of books available:  2\n",
    "Enter the quantity of keychains available:  1\n",
    "Enter the number of customer orders:  2\n",
    "Enter the name of a product that a customer wants to order:  hat\n",
    "Enter the name of a product that a customer wants to order:  keychain\n",
    "\n",
    "Order Statistics:\n",
    "Total Products Ordered: 2\n",
    "Percentage of Unique Products Ordered: 40.0\n",
    "\n",
    "Updated Inventory:\n",
    "t-shirt: 5\n",
    "mug: 4\n",
    "hat: 2\n",
    "book: 2\n",
    "Enter the price of keychain:  5\n",
    "Enter the price of hat:  10\n",
    "Total Price: 15.0\n",
    "\n",
    "```\n"
   ]
  },
  {
   "cell_type": "code",
   "execution_count": 4,
   "id": "47094639",
   "metadata": {},
   "outputs": [
    {
     "name": "stdout",
     "output_type": "stream",
     "text": [
      "please enter the quantity of t-shirt available: 5\n",
      "please enter the quantity of mug available: 5\n",
      "please enter the quantity of hat available: 5\n",
      "please enter the quantity of book available: 5\n",
      "please enter the quantity of keychain available: 5\n",
      "{'t-shirt': 5, 'mug': 5, 'hat': 5, 'book': 5, 'keychain': 5}\n"
     ]
    }
   ],
   "source": [
    "'''\n",
    "1. a) initialize inventory\n",
    "\n",
    "'''\n",
    "def initialize_inventory(products):\n",
    "    inventory = {product: int(input(f'please enter the quantity of {product} available: ')) for product in products}\n",
    "    return inventory\n",
    "\n",
    "products = [\"t-shirt\", \"mug\", \"hat\", \"book\", \"keychain\"]\n",
    "\n",
    "inventory = initialize_inventory(products)\n",
    "\n",
    "print(inventory)"
   ]
  },
  {
   "cell_type": "code",
   "execution_count": 21,
   "id": "41da7d31",
   "metadata": {},
   "outputs": [
    {
     "name": "stdout",
     "output_type": "stream",
     "text": [
      "{}\n"
     ]
    }
   ],
   "source": [
    "'''\n",
    "1. b) updating inventory\n",
    "\n",
    "old code:\n",
    "---------\n",
    "\n",
    "def update_inventory(customer_orders, inventory):\n",
    "    for item in customer_orders:\n",
    "        if item in inventory:\n",
    "            inventory[item] = inventory[item] - 1\n",
    "    return inventory\n",
    "\n",
    "updated_inventory = update_inventory(customer_orders, inventory)\n",
    "print(updated_inventory)\n",
    "'''\n",
    "\n",
    "def update_inventory(customer_orders, inventory):\n",
    "    inventory = {xxxx}\n",
    "    return inventory\n",
    "\n",
    "updated_inventory = update_inventory(customer_orders, inventory)\n",
    "print(updated_inventory)"
   ]
  },
  {
   "cell_type": "code",
   "execution_count": 17,
   "id": "0de262c6",
   "metadata": {},
   "outputs": [
    {
     "ename": "NameError",
     "evalue": "name 'updated_inventory' is not defined",
     "output_type": "error",
     "traceback": [
      "\u001b[0;31m---------------------------------------------------------------------------\u001b[0m",
      "\u001b[0;31mNameError\u001b[0m                                 Traceback (most recent call last)",
      "Cell \u001b[0;32mIn[17], line 14\u001b[0m\n\u001b[1;32m     12\u001b[0m \u001b[38;5;28;01mdef\u001b[39;00m \u001b[38;5;21mprint_updated_inventory\u001b[39m(inventory):\n\u001b[1;32m     13\u001b[0m     \u001b[38;5;28mprint\u001b[39m(\u001b[38;5;124mf\u001b[39m\u001b[38;5;124m'\u001b[39m\u001b[38;5;132;01m{\u001b[39;00mkey\u001b[38;5;132;01m}\u001b[39;00m\u001b[38;5;124m:\u001b[39m\u001b[38;5;132;01m{\u001b[39;00mvalue\u001b[38;5;132;01m}\u001b[39;00m\u001b[38;5;124m'\u001b[39m \u001b[38;5;28;01mfor\u001b[39;00m key, value \u001b[38;5;129;01min\u001b[39;00m inventory\u001b[38;5;241m.\u001b[39mitems())\n\u001b[0;32m---> 14\u001b[0m print_updated_inventory(\u001b[43mupdated_inventory\u001b[49m)\n",
      "\u001b[0;31mNameError\u001b[0m: name 'updated_inventory' is not defined"
     ]
    }
   ],
   "source": [
    "'''\n",
    "1. c) printing updated inventory\n",
    "\n",
    "old code:\n",
    "---------\n",
    "def print_updated_inventory(inventory):\n",
    "    for key, value in inventory.items():\n",
    "        print(f'{key}:{value}')\n",
    "print_updated_inventory(updated_inventory)\n",
    "'''\n",
    "\n",
    "def print_updated_inventory(inventory):\n",
    "    print(f'{key}:{value}' for key, value in inventory.items())\n",
    "\n",
    "print_updated_inventory(updated_inventory)"
   ]
  },
  {
   "cell_type": "code",
   "execution_count": 6,
   "id": "e7ec35ca",
   "metadata": {},
   "outputs": [
    {
     "name": "stdout",
     "output_type": "stream",
     "text": [
      "Enter the number of customer orders: 2\n",
      "Please enter which you product you ordered 1. (t-shirt, mug, hat, book, or keychain): mug\n",
      "Please enter which you product you ordered 2. (t-shirt, mug, hat, book, or keychain): book\n",
      "Thank you for your order :)\n"
     ]
    }
   ],
   "source": [
    "'''\n",
    "2.\n",
    "Modify the function get_customer_orders so it prompts the user\n",
    "to enter the number of customer orders and gathers the product names\n",
    "using a loop and user input. Use comprehension.\n",
    "'''\n",
    "\n",
    "def get_customer_orders():\n",
    "    num_orders = int(input('Enter the number of customer orders: '))\n",
    "    customer_orders = {input(f'Please enter which you product you ordered {i+1}. (t-shirt, mug, hat, book, or keychain): ') for i in range(num_orders)}\n",
    "    print('Thank you for your order :)')\n",
    "    return customer_orders\n",
    "\n",
    "customer_orders = get_customer_orders()"
   ]
  },
  {
   "cell_type": "code",
   "execution_count": 14,
   "id": "8c7e6106",
   "metadata": {},
   "outputs": [
    {
     "name": "stdout",
     "output_type": "stream",
     "text": [
      "Please enter the price of book: 5\n",
      "Please enter the price of mug: 5\n",
      "10\n"
     ]
    }
   ],
   "source": [
    "'''\n",
    "3.\n",
    "Add a new function to calculate the total price of the customer order.\n",
    "For each product in customer_orders, prompt the user to enter the price of that product.\n",
    "Use comprehension to calculate the total price.\n",
    "Note: assume that the user can only have 1 unit of each product.\n",
    "\n",
    "'''\n",
    "\n",
    "def calculate_total_price (customer_orders):\n",
    "    total_price = sum(int(input(f'Please enter the price of {order}: ')) for order in customer_orders)\n",
    "    return total_price\n",
    "\n",
    "total_price = calculate_total_price(customer_orders)"
   ]
  },
  {
   "cell_type": "code",
   "execution_count": 15,
   "id": "2bd649ac",
   "metadata": {},
   "outputs": [
    {
     "ename": "SyntaxError",
     "evalue": "invalid syntax (2366974184.py, line 20)",
     "output_type": "error",
     "traceback": [
      "\u001b[0;36m  Cell \u001b[0;32mIn[15], line 20\u001b[0;36m\u001b[0m\n\u001b[0;31m    inventory = item for item in customer_orders if item in inventory:\u001b[0m\n\u001b[0m                     ^\u001b[0m\n\u001b[0;31mSyntaxError\u001b[0m\u001b[0;31m:\u001b[0m invalid syntax\n"
     ]
    }
   ],
   "source": [
    "'''\n",
    "4.\n",
    "Modify the update_inventory function to remove the product from the inventory\n",
    "if its quantity becomes zero after fulfilling the customer orders.\n",
    "Use comprehension to filter out the products with a quantity of zero from the inventory.\n",
    "\n",
    "old code:\n",
    "---------\n",
    "def update_inventory(customer_orders, inventory):\n",
    "    for item in customer_orders:\n",
    "        if item in inventory:\n",
    "            inventory[item] = inventory[item] - 1\n",
    "    return inventory\n",
    "\n",
    "updated_inventory = update_inventory(customer_orders, inventory)\n",
    "print(updated_inventory)\n",
    "\n",
    "'''\n",
    "xxxxxxxx\n",
    "\n",
    "def update_inventory(customer_orders, inventory):\n",
    "    inventory = item for item in customer_orders if item in inventory:\n",
    "    return inventory\n",
    "\n",
    "updated_inventory = update_inventory(customer_orders, inventory)\n",
    "print(updated_inventory)"
   ]
  },
  {
   "cell_type": "code",
   "execution_count": null,
   "id": "31fcb4d9",
   "metadata": {},
   "outputs": [],
   "source": [
    "'''\n",
    "5.\n",
    "Print the total price of the customer order.\n",
    "\n",
    "'''\n",
    "\n",
    "Xxxxxxxx\n",
    "\n",
    "def print_total_price(total_price):\n",
    "    print(f'The total price of the customer order is: {total_price}')\n",
    "\n",
    "print_total_price(total_price)"
   ]
  }
 ],
 "metadata": {
  "kernelspec": {
   "display_name": "Python 3 (ipykernel)",
   "language": "python",
   "name": "python3"
  },
  "language_info": {
   "codemirror_mode": {
    "name": "ipython",
    "version": 3
   },
   "file_extension": ".py",
   "mimetype": "text/x-python",
   "name": "python",
   "nbconvert_exporter": "python",
   "pygments_lexer": "ipython3",
   "version": "3.9.19"
  }
 },
 "nbformat": 4,
 "nbformat_minor": 5
}
